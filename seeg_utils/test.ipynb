{
 "metadata": {
  "language_info": {
   "codemirror_mode": {
    "name": "ipython",
    "version": 3
   },
   "file_extension": ".py",
   "mimetype": "text/x-python",
   "name": "python",
   "nbconvert_exporter": "python",
   "pygments_lexer": "ipython3",
   "version": "3.8.6-final"
  },
  "orig_nbformat": 2,
  "kernelspec": {
   "name": "python3",
   "display_name": "Python 3",
   "language": "python"
  }
 },
 "nbformat": 4,
 "nbformat_minor": 2,
 "cells": [
  {
   "cell_type": "code",
   "execution_count": 8,
   "metadata": {},
   "outputs": [],
   "source": [
    "import os\n",
    "\n",
    "import numpy as np\n",
    "import pandas as pd"
   ]
  },
  {
   "cell_type": "code",
   "execution_count": 9,
   "metadata": {},
   "outputs": [
    {
     "output_type": "stream",
     "name": "stdout",
     "text": [
      "R:\\Active\\SEEG\\subjects\\DR_2021\\IMAGING\\Electrodes\\A_AOF_FRPOLE.dat\n"
     ]
    }
   ],
   "source": [
    "directory = r'R:\\Active\\SEEG\\subjects\\DR_2021\\IMAGING\\Electrodes'\n",
    "with os.scandir(directory) as it:\n",
    "    for entry in it:\n",
    "        if entry.name.endswith('.dat'):\n",
    "            if entry.name.startswith('A'):\n",
    "                file_name = os.path.join(directory, entry.name)\n",
    "                print(file_name)"
   ]
  },
  {
   "cell_type": "code",
   "execution_count": 10,
   "metadata": {
    "tags": []
   },
   "outputs": [
    {
     "output_type": "execute_result",
     "data": {
      "text/plain": [
       "   name        x        y        z\n",
       "1    A1  4.65414  87.2734  24.1982\n",
       "2    A2  8.44772  85.6043  23.7619\n",
       "3    A3  11.1563   84.362  23.2608\n",
       "4    A4   13.865  83.1198  22.7598\n",
       "5    A5  17.1142  81.5752  22.1672\n",
       "6    A6  20.3667  80.1868  21.6877\n",
       "7    A7  23.6217  78.9114   21.052\n",
       "8    A8  26.3251  77.4216  20.7288\n",
       "9    A9  29.5747  75.8986  20.2709\n",
       "10  A10  33.3703  74.3209  19.5436\n",
       "11  A11  36.0841  73.3262  18.8648\n",
       "12  A12  38.7866  71.7933  18.2722\n",
       "13  A13  42.0363  70.2703  17.8143\n",
       "14  A14  45.2974  69.2856  17.2701\n",
       "15  A15  48.5486  67.8324  16.3866\n",
       "16  A16  51.7945  66.1318  15.6809"
      ],
      "text/html": "<div>\n<style scoped>\n    .dataframe tbody tr th:only-of-type {\n        vertical-align: middle;\n    }\n\n    .dataframe tbody tr th {\n        vertical-align: top;\n    }\n\n    .dataframe thead th {\n        text-align: right;\n    }\n</style>\n<table border=\"1\" class=\"dataframe\">\n  <thead>\n    <tr style=\"text-align: right;\">\n      <th></th>\n      <th>name</th>\n      <th>x</th>\n      <th>y</th>\n      <th>z</th>\n    </tr>\n  </thead>\n  <tbody>\n    <tr>\n      <th>1</th>\n      <td>A1</td>\n      <td>4.65414</td>\n      <td>87.2734</td>\n      <td>24.1982</td>\n    </tr>\n    <tr>\n      <th>2</th>\n      <td>A2</td>\n      <td>8.44772</td>\n      <td>85.6043</td>\n      <td>23.7619</td>\n    </tr>\n    <tr>\n      <th>3</th>\n      <td>A3</td>\n      <td>11.1563</td>\n      <td>84.362</td>\n      <td>23.2608</td>\n    </tr>\n    <tr>\n      <th>4</th>\n      <td>A4</td>\n      <td>13.865</td>\n      <td>83.1198</td>\n      <td>22.7598</td>\n    </tr>\n    <tr>\n      <th>5</th>\n      <td>A5</td>\n      <td>17.1142</td>\n      <td>81.5752</td>\n      <td>22.1672</td>\n    </tr>\n    <tr>\n      <th>6</th>\n      <td>A6</td>\n      <td>20.3667</td>\n      <td>80.1868</td>\n      <td>21.6877</td>\n    </tr>\n    <tr>\n      <th>7</th>\n      <td>A7</td>\n      <td>23.6217</td>\n      <td>78.9114</td>\n      <td>21.052</td>\n    </tr>\n    <tr>\n      <th>8</th>\n      <td>A8</td>\n      <td>26.3251</td>\n      <td>77.4216</td>\n      <td>20.7288</td>\n    </tr>\n    <tr>\n      <th>9</th>\n      <td>A9</td>\n      <td>29.5747</td>\n      <td>75.8986</td>\n      <td>20.2709</td>\n    </tr>\n    <tr>\n      <th>10</th>\n      <td>A10</td>\n      <td>33.3703</td>\n      <td>74.3209</td>\n      <td>19.5436</td>\n    </tr>\n    <tr>\n      <th>11</th>\n      <td>A11</td>\n      <td>36.0841</td>\n      <td>73.3262</td>\n      <td>18.8648</td>\n    </tr>\n    <tr>\n      <th>12</th>\n      <td>A12</td>\n      <td>38.7866</td>\n      <td>71.7933</td>\n      <td>18.2722</td>\n    </tr>\n    <tr>\n      <th>13</th>\n      <td>A13</td>\n      <td>42.0363</td>\n      <td>70.2703</td>\n      <td>17.8143</td>\n    </tr>\n    <tr>\n      <th>14</th>\n      <td>A14</td>\n      <td>45.2974</td>\n      <td>69.2856</td>\n      <td>17.2701</td>\n    </tr>\n    <tr>\n      <th>15</th>\n      <td>A15</td>\n      <td>48.5486</td>\n      <td>67.8324</td>\n      <td>16.3866</td>\n    </tr>\n    <tr>\n      <th>16</th>\n      <td>A16</td>\n      <td>51.7945</td>\n      <td>66.1318</td>\n      <td>15.6809</td>\n    </tr>\n  </tbody>\n</table>\n</div>"
     },
     "metadata": {},
     "execution_count": 10
    }
   ],
   "source": [
    "df = pd.DataFrame(columns=['name', 'x', 'y', 'z'])\n",
    "name = os.path.basename(file_name)[0]\n",
    "with open(file_name) as f:\n",
    "    line = f.readline()\n",
    "    i = 1\n",
    "    while('info' not in line):\n",
    "        x, y, z = np.asarray(line.split(), dtype=float)\n",
    "        df.loc[i, 'name'] = f'{name}{i}'\n",
    "        df.loc[i, 'x'] = x\n",
    "        df.loc[i, 'y'] = y\n",
    "        df.loc[i, 'z'] = z\n",
    "        line = f.readline()\n",
    "        i += 1\n",
    "\n",
    "df"
   ]
  },
  {
   "cell_type": "code",
   "execution_count": 25,
   "metadata": {},
   "outputs": [],
   "source": [
    "def write_fcsv(file_name, electrodes):\n",
    "    header = '# Markups fiducial file version = 4.10\\n'\n",
    "    header += '# CoordinateSystem = 0\\n'\n",
    "    header += '# columns = id,x,y,z,ow,ox,oy,oz,vis,sel,lock,label,desc,associatedNodeID\\n'\n",
    "    with open(file_name, 'w') as f:\n",
    "        f.write(header)\n",
    "        for i in range(1, electrodes.shape[0]+1):\n",
    "            line = f\"vtkMRMLMarkupsFiducialNode_0,{electrodes.loc[i, 'x']},{electrodes.loc[i, 'y']},{electrodes.loc[i, 'z']},\"\n",
    "            line += f\"0.000,0.000,0.000,1.000,1,1,0,{electrodes.loc[i, 'name']},,vtkMRMLScalarVolumeNode2\\n\"\n",
    "            f.write(line)"
   ]
  },
  {
   "cell_type": "code",
   "execution_count": 26,
   "metadata": {},
   "outputs": [
    {
     "output_type": "stream",
     "name": "stdout",
     "text": [
      "R:\\Active\\SEEG\\subjects\\DR_2021\\IMAGING\\Electrodes\\A.fcsv\n"
     ]
    }
   ],
   "source": [
    "fn = os.path.join(directory, 'A'+'.fcsv')\n",
    "print(fn)\n",
    "write_fcsv(fn, df)"
   ]
  },
  {
   "cell_type": "code",
   "execution_count": null,
   "metadata": {},
   "outputs": [],
   "source": []
  }
 ]
}